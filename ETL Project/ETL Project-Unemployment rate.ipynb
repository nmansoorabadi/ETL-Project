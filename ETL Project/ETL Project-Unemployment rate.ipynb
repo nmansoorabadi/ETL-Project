{
 "cells": [
  {
   "cell_type": "code",
   "execution_count": null,
   "metadata": {},
   "outputs": [],
   "source": [
    "import pandas as pd\n",
    "from sqlalchemy import create_engine\n",
    "import json\n",
    "from pandas.io.json import json_normalize"
   ]
  },
  {
   "cell_type": "markdown",
   "metadata": {
    "slideshow": {
     "slide_type": "-"
    }
   },
   "source": [
    "### Store CSV into DataFrame"
   ]
  },
  {
   "cell_type": "code",
   "execution_count": null,
   "metadata": {
    "scrolled": false
   },
   "outputs": [],
   "source": [
    "csv_file = \"Resources/Unempoyment_rate.csv\"\n",
    "Unempoyment_rate_df = pd.read_csv(csv_file)\n",
    "Unempoyment_rate_df.head()"
   ]
  },
  {
   "cell_type": "code",
   "execution_count": null,
   "metadata": {},
   "outputs": [],
   "source": []
  },
  {
   "cell_type": "markdown",
   "metadata": {},
   "source": [
    "## Store JSON data into a DataFrame"
   ]
  },
  {
   "cell_type": "code",
   "execution_count": null,
   "metadata": {
    "scrolled": false
   },
   "outputs": [],
   "source": [
    "# json_file = \"Resources/Unempoyment_yearlry_rate.json\"\n",
    "# # json_normalize(json_file)\n",
    "# # Unempoyment_yearlry_rate_df = pd.read_json(json_file)\n",
    "# Unempoyment_yearlry_rate_df=pd.read_json(json_file, orient='index')\n",
    "# # Unempoyment_yearlry_rate_df=pd.read_json(json_file, orient='split')\n",
    "# Unempoyment_yearlry_rate_df.head()"
   ]
  },
  {
   "cell_type": "code",
   "execution_count": null,
   "metadata": {},
   "outputs": [],
   "source": [
    "json_file = \"Resources/Unempoyment_yearlry_rate.json\"\n",
    "print(json_file)"
   ]
  },
  {
   "cell_type": "code",
   "execution_count": null,
   "metadata": {},
   "outputs": [],
   "source": [
    "filepath = json_file\n",
    "with open(filepath) as jsonfile:\n",
    "    json_norm = json.load(jsonfile)\n",
    "print(json_norm)"
   ]
  },
  {
   "cell_type": "code",
   "execution_count": 6,
   "metadata": {},
   "outputs": [
    {
     "data": {
      "text/html": [
       "<div>\n",
       "<style scoped>\n",
       "    .dataframe tbody tr th:only-of-type {\n",
       "        vertical-align: middle;\n",
       "    }\n",
       "\n",
       "    .dataframe tbody tr th {\n",
       "        vertical-align: top;\n",
       "    }\n",
       "\n",
       "    .dataframe thead th {\n",
       "        text-align: right;\n",
       "    }\n",
       "</style>\n",
       "<table border=\"1\" class=\"dataframe\">\n",
       "  <thead>\n",
       "    <tr style=\"text-align: right;\">\n",
       "      <th></th>\n",
       "      <th>1990.Annual.Alabama.Unemployment Rate.Autauga County</th>\n",
       "      <th>1990.Annual.Alabama.Unemployment Rate.Baldwin County</th>\n",
       "      <th>1990.Annual.Alabama.Unemployment Rate.Barbour County</th>\n",
       "      <th>1990.Annual.Alabama.Unemployment Rate.Bibb County</th>\n",
       "      <th>1990.Annual.Alabama.Unemployment Rate.Blount County</th>\n",
       "      <th>1990.Annual.Alabama.Unemployment Rate.Bullock County</th>\n",
       "      <th>1990.Annual.Alabama.Unemployment Rate.Butler County</th>\n",
       "      <th>1990.Annual.Alabama.Unemployment Rate.Calhoun County</th>\n",
       "      <th>1990.Annual.Alabama.Unemployment Rate.Chambers County</th>\n",
       "      <th>1990.Annual.Alabama.Unemployment Rate.Cherokee County</th>\n",
       "      <th>...</th>\n",
       "      <th>2016.September.Wyoming.Unemployment Rate.Niobrara County</th>\n",
       "      <th>2016.September.Wyoming.Unemployment Rate.Park County</th>\n",
       "      <th>2016.September.Wyoming.Unemployment Rate.Platte County</th>\n",
       "      <th>2016.September.Wyoming.Unemployment Rate.Sheridan County</th>\n",
       "      <th>2016.September.Wyoming.Unemployment Rate.Sublette County</th>\n",
       "      <th>2016.September.Wyoming.Unemployment Rate.Sweetwater County</th>\n",
       "      <th>2016.September.Wyoming.Unemployment Rate.Teton County</th>\n",
       "      <th>2016.September.Wyoming.Unemployment Rate.Uinta County</th>\n",
       "      <th>2016.September.Wyoming.Unemployment Rate.Washakie County</th>\n",
       "      <th>2016.September.Wyoming.Unemployment Rate.Weston County</th>\n",
       "    </tr>\n",
       "  </thead>\n",
       "  <tbody>\n",
       "    <tr>\n",
       "      <th>0</th>\n",
       "      <td>6.5</td>\n",
       "      <td>5.2</td>\n",
       "      <td>7.8</td>\n",
       "      <td>9.1</td>\n",
       "      <td>6.3</td>\n",
       "      <td>12.4</td>\n",
       "      <td>12.8</td>\n",
       "      <td>7.1</td>\n",
       "      <td>7.2</td>\n",
       "      <td>9.9</td>\n",
       "      <td>...</td>\n",
       "      <td>3.0</td>\n",
       "      <td>3.6</td>\n",
       "      <td>4.0</td>\n",
       "      <td>3.8</td>\n",
       "      <td>5.4</td>\n",
       "      <td>5.5</td>\n",
       "      <td>2.0</td>\n",
       "      <td>5.1</td>\n",
       "      <td>3.8</td>\n",
       "      <td>4.7</td>\n",
       "    </tr>\n",
       "  </tbody>\n",
       "</table>\n",
       "<p>1 rows × 956601 columns</p>\n",
       "</div>"
      ],
      "text/plain": [
       "   1990.Annual.Alabama.Unemployment Rate.Autauga County  \\\n",
       "0                                                6.5      \n",
       "\n",
       "   1990.Annual.Alabama.Unemployment Rate.Baldwin County  \\\n",
       "0                                                5.2      \n",
       "\n",
       "   1990.Annual.Alabama.Unemployment Rate.Barbour County  \\\n",
       "0                                                7.8      \n",
       "\n",
       "   1990.Annual.Alabama.Unemployment Rate.Bibb County  \\\n",
       "0                                                9.1   \n",
       "\n",
       "   1990.Annual.Alabama.Unemployment Rate.Blount County  \\\n",
       "0                                                6.3     \n",
       "\n",
       "   1990.Annual.Alabama.Unemployment Rate.Bullock County  \\\n",
       "0                                               12.4      \n",
       "\n",
       "   1990.Annual.Alabama.Unemployment Rate.Butler County  \\\n",
       "0                                               12.8     \n",
       "\n",
       "   1990.Annual.Alabama.Unemployment Rate.Calhoun County  \\\n",
       "0                                                7.1      \n",
       "\n",
       "   1990.Annual.Alabama.Unemployment Rate.Chambers County  \\\n",
       "0                                                7.2       \n",
       "\n",
       "   1990.Annual.Alabama.Unemployment Rate.Cherokee County  ...  \\\n",
       "0                                                9.9      ...   \n",
       "\n",
       "   2016.September.Wyoming.Unemployment Rate.Niobrara County  \\\n",
       "0                                                3.0          \n",
       "\n",
       "   2016.September.Wyoming.Unemployment Rate.Park County  \\\n",
       "0                                                3.6      \n",
       "\n",
       "   2016.September.Wyoming.Unemployment Rate.Platte County  \\\n",
       "0                                                4.0        \n",
       "\n",
       "   2016.September.Wyoming.Unemployment Rate.Sheridan County  \\\n",
       "0                                                3.8          \n",
       "\n",
       "   2016.September.Wyoming.Unemployment Rate.Sublette County  \\\n",
       "0                                                5.4          \n",
       "\n",
       "   2016.September.Wyoming.Unemployment Rate.Sweetwater County  \\\n",
       "0                                                5.5            \n",
       "\n",
       "   2016.September.Wyoming.Unemployment Rate.Teton County  \\\n",
       "0                                                2.0       \n",
       "\n",
       "   2016.September.Wyoming.Unemployment Rate.Uinta County  \\\n",
       "0                                                5.1       \n",
       "\n",
       "   2016.September.Wyoming.Unemployment Rate.Washakie County  \\\n",
       "0                                                3.8          \n",
       "\n",
       "   2016.September.Wyoming.Unemployment Rate.Weston County  \n",
       "0                                                4.7       \n",
       "\n",
       "[1 rows x 956601 columns]"
      ]
     },
     "execution_count": 6,
     "metadata": {},
     "output_type": "execute_result"
    }
   ],
   "source": [
    "json_normalize(json_norm)"
   ]
  },
  {
   "cell_type": "code",
   "execution_count": 7,
   "metadata": {},
   "outputs": [
    {
     "name": "stderr",
     "output_type": "stream",
     "text": [
      "IOPub data rate exceeded.\n",
      "The notebook server will temporarily stop sending output\n",
      "to the client in order to avoid crashing it.\n",
      "To change this limit, set the config variable\n",
      "`--NotebookApp.iopub_data_rate_limit`.\n",
      "\n",
      "Current values:\n",
      "NotebookApp.iopub_data_rate_limit=1000000.0 (bytes/sec)\n",
      "NotebookApp.rate_limit_window=3.0 (secs)\n",
      "\n"
     ]
    }
   ],
   "source": [
    "print(json.dumps(json_norm, indent=4))\n"
   ]
  },
  {
   "cell_type": "code",
   "execution_count": 8,
   "metadata": {},
   "outputs": [],
   "source": [
    "json_normed=json_normalize(json_norm,)"
   ]
  },
  {
   "cell_type": "code",
   "execution_count": 9,
   "metadata": {},
   "outputs": [
    {
     "ename": "NameError",
     "evalue": "name 'Unempoyment_yearlry_rate_df' is not defined",
     "output_type": "error",
     "traceback": [
      "\u001b[1;31m---------------------------------------------------------------------------\u001b[0m",
      "\u001b[1;31mNameError\u001b[0m                                 Traceback (most recent call last)",
      "\u001b[1;32m<ipython-input-9-bb3210052f02>\u001b[0m in \u001b[0;36m<module>\u001b[1;34m\u001b[0m\n\u001b[1;32m----> 1\u001b[1;33m \u001b[0mUnempoyment_yearlry_rate_df\u001b[0m\u001b[1;33m=\u001b[0m\u001b[0mUnempoyment_yearlry_rate_df\u001b[0m\u001b[1;33m.\u001b[0m\u001b[0mreset_index\u001b[0m\u001b[1;33m(\u001b[0m\u001b[1;33m)\u001b[0m\u001b[1;33m\u001b[0m\u001b[1;33m\u001b[0m\u001b[0m\n\u001b[0m\u001b[0;32m      2\u001b[0m \u001b[1;31m# Unempoyment_yearlry_rate_df=Unempoyment_yearlry_rate_df.pivot(index='Year',columns='months', values='rate')\u001b[0m\u001b[1;33m\u001b[0m\u001b[1;33m\u001b[0m\u001b[1;33m\u001b[0m\u001b[0m\n\u001b[0;32m      3\u001b[0m \u001b[1;31m# Unempoyment_yearlry_rate_df.head()\u001b[0m\u001b[1;33m\u001b[0m\u001b[1;33m\u001b[0m\u001b[1;33m\u001b[0m\u001b[0m\n",
      "\u001b[1;31mNameError\u001b[0m: name 'Unempoyment_yearlry_rate_df' is not defined"
     ]
    }
   ],
   "source": [
    "Unempoyment_yearlry_rate_df=Unempoyment_yearlry_rate_df.reset_index()\n",
    "# Unempoyment_yearlry_rate_df=Unempoyment_yearlry_rate_df.pivot(index='Year',columns='months', values='rate')\n",
    "# Unempoyment_yearlry_rate_df.head()"
   ]
  },
  {
   "cell_type": "markdown",
   "metadata": {},
   "source": [
    "### Create new data with select columns"
   ]
  },
  {
   "cell_type": "code",
   "execution_count": null,
   "metadata": {},
   "outputs": [],
   "source": []
  },
  {
   "cell_type": "markdown",
   "metadata": {},
   "source": [
    "### Clean DataFrame"
   ]
  },
  {
   "cell_type": "code",
   "execution_count": null,
   "metadata": {},
   "outputs": [],
   "source": []
  },
  {
   "cell_type": "markdown",
   "metadata": {},
   "source": [
    "### Connect to local database"
   ]
  },
  {
   "cell_type": "code",
   "execution_count": null,
   "metadata": {},
   "outputs": [],
   "source": []
  },
  {
   "cell_type": "markdown",
   "metadata": {},
   "source": [
    "### Check for tables"
   ]
  },
  {
   "cell_type": "code",
   "execution_count": null,
   "metadata": {},
   "outputs": [],
   "source": []
  },
  {
   "cell_type": "markdown",
   "metadata": {},
   "source": [
    "### Use pandas to load csv converted DataFrame into database"
   ]
  },
  {
   "cell_type": "code",
   "execution_count": null,
   "metadata": {},
   "outputs": [],
   "source": []
  },
  {
   "cell_type": "markdown",
   "metadata": {},
   "source": [
    "### Use pandas to load json converted DataFrame into database"
   ]
  }
 ],
 "metadata": {
  "kernelspec": {
   "display_name": "Python 3",
   "language": "python",
   "name": "python3"
  },
  "language_info": {
   "codemirror_mode": {
    "name": "ipython",
    "version": 3
   },
   "file_extension": ".py",
   "mimetype": "text/x-python",
   "name": "python",
   "nbconvert_exporter": "python",
   "pygments_lexer": "ipython3",
   "version": "3.7.4"
  },
  "nteract": {
   "version": "0.12.3"
  }
 },
 "nbformat": 4,
 "nbformat_minor": 2
}
